{
 "cells": [
  {
   "cell_type": "code",
   "execution_count": 1,
   "metadata": {},
   "outputs": [
    {
     "name": "stdout",
     "output_type": "stream",
     "text": [
      "  \n",
      "*   \n",
      "* *   \n",
      "* * *   \n",
      "* * * *   \n"
     ]
    }
   ],
   "source": [
    "for row in range(5):\n",
    "    for col in range(1,row+1):\n",
    "        print(\"*\",end=\" \")\n",
    "    else:\n",
    "        print(\" \",end=\" \")\n",
    "    print()"
   ]
  },
  {
   "cell_type": "code",
   "execution_count": 2,
   "metadata": {},
   "outputs": [
    {
     "name": "stdout",
     "output_type": "stream",
     "text": [
      "* * * * * *   \n",
      "* * * * *   \n",
      "* * * *   \n",
      "* * *   \n",
      "* *   \n",
      "*   \n"
     ]
    }
   ],
   "source": [
    "for row in range(6):\n",
    "    for col in range(row-1,5):\n",
    "        print(\"*\",end=\" \")\n",
    "    else:\n",
    "        print(\" \",end=\" \")\n",
    "    print()"
   ]
  },
  {
   "cell_type": "code",
   "execution_count": 4,
   "metadata": {},
   "outputs": [
    {
     "name": "stdout",
     "output_type": "stream",
     "text": [
      "M \n",
      "M a \n",
      "M a n \n",
      "M a n i \n",
      "M a n i k \n",
      "M a n i k a \n",
      "M a n i k a n \n",
      "M a n i k a n t \n",
      "M a n i k a n t a \n"
     ]
    }
   ],
   "source": [
    "p='Manikanta'\n",
    "leng=len(p)\n",
    "for i in range(leng):\n",
    "    for j in range(i+1):\n",
    "        print(p[j],end=\" \")\n",
    "    print()"
   ]
  },
  {
   "cell_type": "code",
   "execution_count": 5,
   "metadata": {},
   "outputs": [
    {
     "name": "stdout",
     "output_type": "stream",
     "text": [
      "1 \n",
      "1 2 \n",
      "1 2 3 \n",
      "1 2 3 4 \n",
      "1 2 3 4 5 \n",
      "1 2 3 4 5 6 \n",
      "1 2 3 4 5 6 7 \n",
      "1 2 3 4 5 6 7 8 \n",
      "1 2 3 4 5 6 7 8 9 \n"
     ]
    }
   ],
   "source": [
    "li=[1,2,3,4,5,6,7,8,9]\n",
    "length=len(li)\n",
    "for i in range(length):\n",
    "    for j in range(i+1):\n",
    "        print(li[j],end=\" \")\n",
    "    print()"
   ]
  },
  {
   "cell_type": "code",
   "execution_count": 6,
   "metadata": {},
   "outputs": [
    {
     "name": "stdout",
     "output_type": "stream",
     "text": [
      "*     \n",
      "* *    \n",
      "*  *   \n",
      "*   *  \n",
      "* * * * * \n"
     ]
    }
   ],
   "source": [
    "for row in range(5):\n",
    "    for col in range(5):\n",
    "        if row==4 or col==0 or (row==1 and col==1) or (row==2 and col==2) or (row==3 and col==3):\n",
    "            print('*',end=\" \")\n",
    "        else:\n",
    "            print(\" \",end=\"\")\n",
    "    print()"
   ]
  },
  {
   "cell_type": "code",
   "execution_count": 7,
   "metadata": {},
   "outputs": [
    {
     "name": "stdout",
     "output_type": "stream",
     "text": [
      "  * *   \n",
      "*     * \n",
      "  * *   \n",
      "        \n"
     ]
    }
   ],
   "source": [
    "for row in range(4):\n",
    "    for col in range(4):\n",
    "        if row==0 and col==1 or(row==0 and col==2) or (row==2 and col==1) or (row==2 and col==2) or (row==1 and col==0) or (row==1 and col==3): #or (row==1 and col==1) or (row==1 and col==3) or (row==2 and col==0) or (row==2 and col==3):\n",
    "            print(\"*\", end=\" \")\n",
    "        else:\n",
    "            print(\" \",end=\" \")\n",
    "    print()"
   ]
  },
  {
   "cell_type": "code",
   "execution_count": 8,
   "metadata": {},
   "outputs": [
    {
     "name": "stdout",
     "output_type": "stream",
     "text": [
      "      *       \n",
      "    *   *     \n",
      "  *       *   \n",
      "* * * * * * * \n"
     ]
    }
   ],
   "source": [
    "for row in range(4):\n",
    "    for col in range(7):\n",
    "        if row==0 and col==3 or (row==1 and col==2) or (row==1 and col==4) or(row==2 and col==1) or (row==2 and col==5)or (row==3 and col==0)or (row==3 and col==1)or(row==3 and col==2)or(row==3 and col==3)or(row==3 and col==4)or(row==3 and col==5)or(row==3 and col==6):\n",
    "            print(\"*\", end=\" \")\n",
    "        else:\n",
    "            print(\" \",end=\" \")\n",
    "    print()"
   ]
  },
  {
   "cell_type": "code",
   "execution_count": 9,
   "metadata": {},
   "outputs": [
    {
     "name": "stdout",
     "output_type": "stream",
     "text": [
      "  *  *    \n",
      "*      *  \n",
      "*      *  \n",
      "  *  *    \n"
     ]
    }
   ],
   "source": [
    "for row in range(4):\n",
    "    for col in range(4):\n",
    "        if row==0 and col==1 or (row==0 and col==2) or (row==1 and col==0) or (row==1 and col==3) or (row==2 and col==0) or (row==2 and col==3) or (row==3 and col==1) or (row==3 and col==2):\n",
    "        \n",
    "            print(\"*\", end=\"  \")\n",
    "        else:\n",
    "            print(\" \",end=\" \")\n",
    "    print()"
   ]
  },
  {
   "cell_type": "code",
   "execution_count": 10,
   "metadata": {},
   "outputs": [
    {
     "name": "stdout",
     "output_type": "stream",
     "text": [
      "*  *  *  *    \n",
      "*        *  \n",
      "*        *  \n",
      "*  *  *  *    \n"
     ]
    }
   ],
   "source": [
    "for row in range(4):\n",
    "    for col in range(5):\n",
    "        if row==0 and col==0 or (row==0 and col==1) or (row==0 and col==2) or (row==0 and col==3) or (row==1 and col==0) or (row==1 and col==4) or (row==2 and col==0) or (row==2 and col==4) or (row==3 and col==0) or (row==3 and col==1) or (row==3 and col==2) or (row==3 and col==3) or (row==3 and col==3):\n",
    "        \n",
    "            print(\"*\", end=\"  \")\n",
    "        else:\n",
    "            print(\" \",end=\" \")\n",
    "    print()"
   ]
  },
  {
   "cell_type": "code",
   "execution_count": 11,
   "metadata": {},
   "outputs": [
    {
     "name": "stdout",
     "output_type": "stream",
     "text": [
      "*      \n",
      "*  *    \n",
      "*    *  \n",
      "*  *  *  \n"
     ]
    }
   ],
   "source": [
    "for row in range(4):\n",
    "    for col in range(3):\n",
    "        if row==4 or col==0 or (row==3 and col==1) or (row==3 and col==2)or (row==3 and col==3)or(row==1 and col==1)or(row==2 and col==2): \n",
    "            print(\"*\", end=\"  \")\n",
    "        else:\n",
    "            print(\" \",end=\" \")\n",
    "    print()"
   ]
  },
  {
   "cell_type": "code",
   "execution_count": 12,
   "metadata": {},
   "outputs": [
    {
     "name": "stdout",
     "output_type": "stream",
     "text": [
      "* * * \n",
      "  * * \n",
      "    * \n"
     ]
    }
   ],
   "source": [
    "for row in range(3):\n",
    "    for col in range(3):\n",
    "        if row==0 or col==3 or (row==1 and col==2)or(row==2 and col==2)or (row==1 and col==1):\n",
    "            print(\"*\",end=\" \")\n",
    "        else:\n",
    "            print(\" \",end=\" \")\n",
    "    print()"
   ]
  },
  {
   "cell_type": "code",
   "execution_count": 13,
   "metadata": {},
   "outputs": [
    {
     "name": "stdout",
     "output_type": "stream",
     "text": [
      "* * * * \n",
      "*     * \n",
      "  *   * \n",
      "    * * \n",
      "      * \n"
     ]
    }
   ],
   "source": [
    "for row in range(5):\n",
    "    for col in range(4):\n",
    "        if row==0 or col==4 or (row==1 and col==3)or(row==2 and col==3)or(row==3 and col==3) or(row==4 and col==3)or(row==3 and col==2)or(row==2 and col==1)or(row==1 and col==0 ):\n",
    "            print(\"*\",end=\" \")\n",
    "        else:\n",
    "            print(\" \",end=\" \")\n",
    "    print()"
   ]
  },
  {
   "cell_type": "code",
   "execution_count": 14,
   "metadata": {},
   "outputs": [
    {
     "name": "stdout",
     "output_type": "stream",
     "text": [
      "*         * \n",
      "*         * \n",
      "*         * \n",
      "*         * \n",
      "* *     * * \n",
      "* * * * * * \n"
     ]
    }
   ],
   "source": [
    "for row in range(6):\n",
    "    for col in range(6):\n",
    "        if row==5 or col==5 or (row==4 and col==0)or(row==3 and col==0)or(row==2 and col==0)or (row==1 and col==0)or (row==0 and col==0)or(row==4 and col==1)or(row==4 and col==4):\n",
    "            print(\"*\",end=\" \")\n",
    "        else:\n",
    "            print(\" \",end=\" \")\n",
    "    print()"
   ]
  },
  {
   "cell_type": "code",
   "execution_count": 15,
   "metadata": {},
   "outputs": [
    {
     "name": "stdout",
     "output_type": "stream",
     "text": [
      "    *     \n",
      "  *   *   \n",
      "*       * \n",
      "  *   *   \n",
      "    *     \n",
      "          \n"
     ]
    }
   ],
   "source": [
    "for row in range(6):\n",
    "    for col in range(5):\n",
    "        if row==0 and col==2 or (row==1 and col==1) or (row==1 and col==3) or (row==2 and col==0)or (row==2 and col==4)or(row==3 and col==1)or(row==3 and col==3)or(row==4 and col==2):\n",
    "            print(\"*\",end=\" \")\n",
    "        else:\n",
    "            print(\" \",end=\" \")\n",
    "    print()"
   ]
  },
  {
   "cell_type": "code",
   "execution_count": 16,
   "metadata": {},
   "outputs": [
    {
     "name": "stdout",
     "output_type": "stream",
     "text": [
      "    *     \n",
      "  * * *   \n",
      "* * * * * \n",
      "  * * *   \n",
      "    *     \n",
      "          \n"
     ]
    }
   ],
   "source": [
    "for row in range(6):\n",
    "    for col in range(5):\n",
    "        if row==0 and col==2 or (row==1 and col==1) or (row==2 and col==1) or (row==3 and  col==2)or(row==1 and col==2) or (row==2and col==2) or(row==2 and col==3) or (row==1 and col==3) or (row==2 and col==0)or (row==2 and col==4)or(row==3 and col==1)or(row==3 and col==3)or(row==4 and col==2):\n",
    "            print(\"*\",end=\" \")\n",
    "        else:\n",
    "            print(\" \",end=\" \")\n",
    "    print()"
   ]
  },
  {
   "cell_type": "code",
   "execution_count": 17,
   "metadata": {},
   "outputs": [
    {
     "name": "stdout",
     "output_type": "stream",
     "text": [
      "      *       \n",
      "    * * *     \n",
      "  * * * * *   \n",
      "* * * * * * * \n"
     ]
    }
   ],
   "source": [
    "for row in range(4):\n",
    "    for col in range(7):\n",
    "        if row==0 and col==3 or (row==1 and col==2)or(row==1 and col==3)or(row==2 and col==2)or(row==2 and col==3)or(row==2 and col==4) or (row==1 and col==4) or(row==2 and col==1) or (row==2 and col==5)or (row==3 and col==0)or (row==3 and col==1)or(row==3 and col==2)or(row==3 and col==3)or(row==3 and col==4)or(row==3 and col==5)or(row==3 and col==6):\n",
    "            print(\"*\", end=\" \")\n",
    "        else:\n",
    "            print(\" \",end=\" \")\n",
    "    print()"
   ]
  },
  {
   "cell_type": "code",
   "execution_count": null,
   "metadata": {},
   "outputs": [],
   "source": []
  }
 ],
 "metadata": {
  "kernelspec": {
   "display_name": "Python 3",
   "language": "python",
   "name": "python3"
  },
  "language_info": {
   "codemirror_mode": {
    "name": "ipython",
    "version": 3
   },
   "file_extension": ".py",
   "mimetype": "text/x-python",
   "name": "python",
   "nbconvert_exporter": "python",
   "pygments_lexer": "ipython3",
   "version": "3.6.8"
  }
 },
 "nbformat": 4,
 "nbformat_minor": 2
}
